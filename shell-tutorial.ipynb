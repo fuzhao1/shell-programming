{
 "cells": [
  {
   "cell_type": "code",
   "execution_count": null,
   "metadata": {
    "collapsed": true
   },
   "outputs": [],
   "source": [
    "# basic opearation in braces, brackets and parentheses\n",
    "\n",
    "# execute a command\n",
    "${ var }\n",
    "\n",
    "# fetch variables\n",
    "$( command )\n",
    "\n",
    "# arithmetic operations\n",
    "$(( expression ))\n",
    "\n",
    "# bracket condition statement\n",
    "[[ condition_statement ]]"
   ]
  },
  {
   "cell_type": "code",
   "execution_count": null,
   "metadata": {
    "collapsed": true
   },
   "outputs": [],
   "source": [
    "# String opeartions\n",
    "\n",
    "# difference between '-' and '=', '=' will define var with default value\n",
    "echo ${var}\n",
    "var='Hello World!'\n",
    "echo ${var-'OK!'}\n",
    "echo ${var}\n",
    "unset var\n",
    "\n",
    "echo ${var}\n",
    "var='Hello World!'\n",
    "echo ${var='OK!'}\n",
    "echo ${var}\n",
    "unset var \n",
    "\n",
    "# list all variables start with 'v'\n",
    "echo ${!v@}\n",
    "echo ${!v*}\n",
    "\n",
    "#${string/substring/repacement}, delete the first matching string\n",
    "#${string//substring/repacement}, delete all matching strings\n",
    "#${string/#substring/repacement}, prefix match\n",
    "#${string/%substring/repacement}, postfix match\n",
    "\n",
    "test='c:/windows/boot.ini'\n",
    "echo ${test/\\//\\\\}\n",
    "echo ${test//\\//\\\\}"
   ]
  },
  {
   "cell_type": "code",
   "execution_count": null,
   "metadata": {
    "collapsed": true
   },
   "outputs": [],
   "source": [
    "# flow control in shell programming\n",
    "\n",
    "# condition opeartions\n",
    "if [[ statement1 ]]; then\n",
    "    action1;\n",
    "elif [[ statement2 ]]; then\n",
    "    action2;\n",
    "else\n",
    "    action3;\n",
    "fi;\n",
    "\n",
    "# for loop\n",
    "for var in $(seq 100); do\n",
    "    action;\n",
    "done;\n",
    "\n",
    "for ((i=1; i<=100; i++)); do\n",
    "    action;\n",
    "done;\n",
    "\n",
    "#while loop\n",
    "while [ $c -le 5 ]; do echo \"Welcone $c times\"; (( c++ )); done\n",
    "while [[ $c -le 5 ]]; do echo \"Welcone $c times\"; (( c++ )); done\n",
    "\n",
    "while [ $c -le 5 ]\n",
    "do\n",
    "    echo \"Welcone $c times\"\n",
    "    (( c++ ))\n",
    "done\n",
    "\n",
    "#until statement\n",
    "a=10;\n",
    "until [[ $a -lt 0 ]]; do\n",
    "    echo $a;\n",
    "    (( a-- ))\n",
    "done;\n",
    "\n",
    "#select case\n",
    "select ch in $(seq 1000) \n",
    "select ch in \"begin\" \"start\" \"stop\" \"end\"\n",
    "do\n",
    "    case $ch in\n",
    "        \"begin\" | \"start\")\n",
    "            action\n",
    "            ;;\n",
    "        \"stop\")\n",
    "            action\n",
    "            ;;\n",
    "        \"end\")\n",
    "            echo \"exit\"\n",
    "            break;\n",
    "            ;;\n",
    "        *)\n",
    "            action\n",
    "            ;;\n",
    "    esac\n",
    "done;"
   ]
  },
  {
   "cell_type": "code",
   "execution_count": null,
   "metadata": {
    "collapsed": true
   },
   "outputs": [],
   "source": [
    "#function definition\n",
    "\n",
    "#declare global variables\n",
    "declare count=0\n",
    "\n",
    "#define function\n",
    "[ function ] funcName()\n",
    "{\n",
    "    #parameters\n",
    "    echo $1, $2,\n",
    "    #default return is the result of last command\n",
    "    return $res\n",
    "}\n",
    "\n",
    "#example\n",
    "function funcName()\n",
    "{\n",
    "    echo $1, $2;\n",
    "    return $(( $1+$2 ))\n",
    "}\n",
    "\n",
    "#command in ${command}\n",
    "res=${funcName 2 3}\n",
    "#return value: $?\n",
    "echo $res, $?"
   ]
  },
  {
   "cell_type": "code",
   "execution_count": null,
   "metadata": {
    "collapsed": true
   },
   "outputs": [],
   "source": [
    "# array operation\n",
    "a=(1 2 3 4 5)\n",
    "#length of array\n",
    "echo ${#a[@ or *]}\n",
    "\n",
    "a[1]=10\n",
    "#data in array\n",
    "echo ${a[@ or *]}\n",
    "    \n",
    "#delete array\n",
    "unset a\n",
    "    \n",
    "#delete element\n",
    "unset a[index]\n",
    "   \n",
    "#slice an array: ${a[*]:startPoint:length}    \n",
    "b=${a[@]:1:3}\n",
    "    \n",
    "# replace element\n",
    "c=${a[*]/3/100}"
   ]
  },
  {
   "cell_type": "code",
   "execution_count": null,
   "metadata": {
    "collapsed": true
   },
   "outputs": [],
   "source": [
    "#OUTPUT redirect\n",
    "#success output to suc.txt, error output to err.txt\n",
    "ls ... 1>suc.txt 2>err.txt\n",
    "\n",
    "#append\n",
    "ls ... 1>>suc.txt 2>>err.txt\n",
    "\n",
    "#&[n] is the existing file descriptor &1 is input, &2 is output, &- means close\n",
    "ls ... 1>&-\n",
    "\n",
    "#throw trash\n",
    "ls ... 1>/dev/null 2>/dev/null\n",
    "#standard output\n",
    "ls ... &>/dev/null\n",
    "\n",
    "#redirect &2 to &1, and &1 to /dev/null\n",
    "ls ... >/dev/null 2>&1\n",
    "\n",
    "\n",
    "\n",
    "#INPUT redirect\n",
    "cat >test <inputFile\n",
    "\n",
    "#exit by insert eof\n",
    "cat >test <<eof\n",
    "\n",
    "\n",
    "#bind 6 and standard output\n",
    "exec 6>&1\n",
    "# restore standard output\n",
    "exec 1>&6"
   ]
  },
  {
   "cell_type": "code",
   "execution_count": 1,
   "metadata": {
    "collapsed": false
   },
   "outputs": [
    {
     "ename": "SyntaxError",
     "evalue": "invalid syntax (<ipython-input-1-89a67e8aaae6>, line 1)",
     "output_type": "error",
     "traceback": [
      "\u001b[0;36m  File \u001b[0;32m\"<ipython-input-1-89a67e8aaae6>\"\u001b[0;36m, line \u001b[0;32m1\u001b[0m\n\u001b[0;31m    echo \"5.3 - 2.6\" | bc\u001b[0m\n\u001b[0m                   ^\u001b[0m\n\u001b[0;31mSyntaxError\u001b[0m\u001b[0;31m:\u001b[0m invalid syntax\n"
     ]
    }
   ],
   "source": [
    "#easy way\n",
    "b=$(( 5+2*3/6 ))\n",
    "\n",
    "#expr\n",
    "#add, sub, multi, div, mod, and, or, gt, gte\n",
    "#+, -, \\*, /, %, \\&, \\|, \\>, \\>=\n",
    "expr expr1 op expr2\n",
    "expr 10 - 5\n",
    "\n",
    "#floating point\n",
    "echo \"5.3 - 2.6\" | bc\n",
    "\n",
    "awk 'BEGIN{print 5.3 - 2.1}'\n",
    "\n",
    "c=$(awk 'BEGIN{print 5.3 - 2.1}')\n",
    "echo $c"
   ]
  }
 ],
 "metadata": {
  "kernelspec": {
   "display_name": "Python 2",
   "language": "python",
   "name": "python2"
  },
  "language_info": {
   "codemirror_mode": {
    "name": "ipython",
    "version": 2
   },
   "file_extension": ".py",
   "mimetype": "text/x-python",
   "name": "python",
   "nbconvert_exporter": "python",
   "pygments_lexer": "ipython2",
   "version": "2.7.12"
  }
 },
 "nbformat": 4,
 "nbformat_minor": 1
}
